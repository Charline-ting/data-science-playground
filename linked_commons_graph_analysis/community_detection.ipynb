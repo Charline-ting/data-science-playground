{
 "cells": [
  {
   "cell_type": "code",
   "execution_count": 1,
   "metadata": {},
   "outputs": [],
   "source": [
    "import collections\n",
    "import math\n",
    "import time\n",
    "import datetime\n",
    "import pickle\n",
    "\n",
    "import matplotlib.pyplot as plt\n",
    "import numpy as np\n",
    "import pandas as pd\n",
    "import scipy\n",
    "import scipy.stats\n",
    "import seaborn as sns\n",
    "\n",
    "import networkx as nx\n",
    "from networkx.algorithms import community\n",
    "import graph_tool.all as gt\n",
    "\n",
    "import cc_graph_ops"
   ]
  },
  {
   "cell_type": "markdown",
   "metadata": {},
   "source": [
    "## Running Girvan-Newman"
   ]
  },
  {
   "cell_type": "markdown",
   "metadata": {},
   "source": [
    "[Girvan-Newman](https://en.wikipedia.org/wiki/Girvan%E2%80%93Newman_algorithm) is a standard algorithm for community detection for graphs. We choose to use the built-in `networkx` implementation for convenience; we can study other algorithms for community detection later on, but right now we're still exploring the structure of the network."
   ]
  },
  {
   "cell_type": "code",
   "execution_count": 2,
   "metadata": {},
   "outputs": [],
   "source": [
    "INPUT_FILE = 'fdg_input_file.json'"
   ]
  },
  {
   "cell_type": "code",
   "execution_count": 3,
   "metadata": {},
   "outputs": [],
   "source": [
    "g = cc_graph_ops.create_graph_from_file(INPUT_FILE)"
   ]
  },
  {
   "cell_type": "code",
   "execution_count": 4,
   "metadata": {},
   "outputs": [],
   "source": [
    "def most_central_edge(g):\n",
    "    centrality = nx.edge_betweenness_centrality(g, weight='weight')\n",
    "    return max(centrality, key=centrality.get)"
   ]
  },
  {
   "cell_type": "code",
   "execution_count": 5,
   "metadata": {},
   "outputs": [],
   "source": [
    "licenses = cc_graph_ops.get_licenses(g)"
   ]
  },
  {
   "cell_type": "code",
   "execution_count": 6,
   "metadata": {},
   "outputs": [],
   "source": [
    "quota = 10\n",
    "proportion = 0.3\n",
    "min_subgraph_size = 100"
   ]
  },
  {
   "cell_type": "code",
   "execution_count": 8,
   "metadata": {},
   "outputs": [],
   "source": [
    "subgraphs = cc_graph_ops.all_license_subgraphs(g, licenses, quota=quota, proportion=proportion)"
   ]
  },
  {
   "cell_type": "code",
   "execution_count": 9,
   "metadata": {},
   "outputs": [],
   "source": [
    "OUTPUT_FILE = 'communities.pkl'"
   ]
  },
  {
   "cell_type": "code",
   "execution_count": 10,
   "metadata": {},
   "outputs": [
    {
     "name": "stdout",
     "output_type": "stream",
     "text": [
      "('gpl', '2.0')\n",
      "409\n"
     ]
    }
   ],
   "source": [
    "communities = dict()\n",
    "try:\n",
    "    for license in licenses:\n",
    "        if len(subgraphs[license]) < min_subgraph_size:\n",
    "            continue\n",
    "        tic = time.time()\n",
    "        print(license)\n",
    "        print('domains:', len(subgraphs[license]))\n",
    "        comp = community.centrality.girvan_newman(subgraphs[license], most_valuable_edge=most_central_edge)\n",
    "        communities[license] = tuple(sorted(c) for c in next(comp))\n",
    "        toc = time.time()\n",
    "        print('elapsed:', toc-tic)\n",
    "except KeyboardInterrupt:\n",
    "    with open(OUTPUT_FILE, 'wb') as output:\n",
    "        pickle.dump(communities, output)"
   ]
  },
  {
   "cell_type": "code",
   "execution_count": 11,
   "metadata": {},
   "outputs": [],
   "source": [
    "with open(OUTPUT_FILE, 'wb') as output:\n",
    "    pickle.dump(communities, output)"
   ]
  }
 ],
 "metadata": {
  "kernelspec": {
   "display_name": "Python 3.8.5 64-bit ('linked_commons': conda)",
   "language": "python",
   "name": "python38564bitlinkedcommonsconda8c925ff8f8704234b7d011f0d1aa2749"
  },
  "language_info": {
   "codemirror_mode": {
    "name": "ipython",
    "version": 3
   },
   "file_extension": ".py",
   "mimetype": "text/x-python",
   "name": "python",
   "nbconvert_exporter": "python",
   "pygments_lexer": "ipython3",
   "version": "3.8.5"
  }
 },
 "nbformat": 4,
 "nbformat_minor": 4
}
