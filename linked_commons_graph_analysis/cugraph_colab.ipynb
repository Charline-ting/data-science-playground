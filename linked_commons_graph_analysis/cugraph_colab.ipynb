{
 "cells": [
  {
   "cell_type": "markdown",
   "metadata": {
    "id": "rk31ZTN0feqo"
   },
   "source": [
    "# Benchmarking `graph-tool`"
   ]
  },
  {
   "cell_type": "code",
   "execution_count": null,
   "metadata": {
    "colab": {
     "base_uri": "https://localhost:8080/",
     "height": 1000
    },
    "id": "J-AuEO--f8OQ",
    "outputId": "aa0d8252-392e-4625-ac2f-c3785c3ccd15"
   },
   "outputs": [],
   "source": [
    "%%bash\n",
    "SOURCE=\"deb [ arch=amd64 ] https://downloads.skewed.de/apt bionic main\"\n",
    "echo $SOURCE >> /etc/apt/sources.list\n",
    "apt-key adv --keyserver keys.openpgp.org --recv-key 612DEFB798507F25\n",
    "apt-get update\n",
    "apt-get install python3-graph-tool"
   ]
  },
  {
   "cell_type": "code",
   "execution_count": null,
   "metadata": {
    "colab": {
     "base_uri": "https://localhost:8080/",
     "height": 70
    },
    "id": "e_K2wFAPieJF",
    "outputId": "ea836a8e-3500-4ca0-ebc0-4196f868486c"
   },
   "outputs": [],
   "source": [
    "!pip3 install networkx"
   ]
  },
  {
   "cell_type": "code",
   "execution_count": 3,
   "metadata": {
    "colab": {
     "base_uri": "https://localhost:8080/",
     "height": 171
    },
    "id": "47CTePzBft1K",
    "outputId": "fa89bd36-09b8-4c60-9d5e-5f9918879295"
   },
   "outputs": [
    {
     "name": "stderr",
     "output_type": "stream",
     "text": [
      "/usr/lib/python3/dist-packages/graph_tool/draw/cairo_draw.py:32: RuntimeWarning: Error importing cairo. Graph drawing will not work.\n",
      "  warnings.warn(msg, RuntimeWarning)\n",
      "/usr/lib/python3/dist-packages/graph_tool/draw/cairo_draw.py:32: RuntimeWarning: Error importing cairo. Graph drawing will not work.\n",
      "  warnings.warn(msg, RuntimeWarning)\n",
      "/usr/lib/python3/dist-packages/graph_tool/draw/cairo_draw.py:32: RuntimeWarning: Error importing cairo. Graph drawing will not work.\n",
      "  warnings.warn(msg, RuntimeWarning)\n",
      "/usr/lib/python3/dist-packages/graph_tool/all.py:39: RuntimeWarning: Error importing draw module, proceeding nevertheless: No module named 'cairo'\n",
      "  warnings.warn(msg, RuntimeWarning)\n"
     ]
    }
   ],
   "source": [
    "import time\n",
    "\n",
    "import networkx as nx\n",
    "import graph_tool.all as gt"
   ]
  },
  {
   "cell_type": "code",
   "execution_count": 4,
   "metadata": {
    "colab": {
     "base_uri": "https://localhost:8080/",
     "height": 34
    },
    "id": "nZw6dp3qfXOC",
    "outputId": "9da90762-3e61-425b-d4cf-e1da60917893"
   },
   "outputs": [
    {
     "name": "stdout",
     "output_type": "stream",
     "text": [
      "Mounted at /content/drive/\n"
     ]
    }
   ],
   "source": [
    "from google.colab import drive\n",
    "\n",
    "drive.mount('/content/drive/')"
   ]
  },
  {
   "cell_type": "code",
   "execution_count": 5,
   "metadata": {
    "id": "7PPPHdNFhgTV"
   },
   "outputs": [],
   "source": [
    "import json\n",
    "\n",
    "def create_graph_from_file(filename, format='nx'):\n",
    "    \"\"\"Opens the data from the given filepath as JSON and return a networkx DiGraph object.\"\"\"\n",
    "    with open(filename, 'r') as f:\n",
    "        data = json.load(f)\n",
    "    return create_graph_from_json(data, format=format)\n",
    "\n",
    "\n",
    "def create_graph_from_json(data, format='nx'):\n",
    "    \"\"\"Converts the input JSON file to a networkx DiGraph object.\"\"\"\n",
    "    nodes = data['nodes']\n",
    "    links = data['links']\n",
    "\n",
    "    if format == 'nx':\n",
    "        g = nx.DiGraph()\n",
    "        for node in nodes:\n",
    "            g.add_node(node['id'], **node)\n",
    "        for link in links:\n",
    "            g.add_edge(link['source'], link['target'], weight=link['value'])\n",
    "    elif format == 'gt':\n",
    "        g = gt.Graph(directed=True)\n",
    "        g.vertex_properties['id'] = g.new_vp('string')\n",
    "        g.edge_properties['weight'] = g.new_ep('int')\n",
    "        vertices = {}\n",
    "        for node in nodes:\n",
    "            node_id = node['id']\n",
    "            v = g.add_vertex()\n",
    "            vertices[node_id] = v\n",
    "            g.vertex_properties['id'][v] = node_id\n",
    "        for link in links:\n",
    "            src = link['source']\n",
    "            dst = link['target']\n",
    "            weight = link['value']\n",
    "            e = g.add_edge(vertices[src], vertices[dst])\n",
    "            g.edge_properties['weight'][e] = weight\n",
    "    else:\n",
    "        raise ValueError(\"format must be nx or gt\")\n",
    "    return g\n"
   ]
  },
  {
   "cell_type": "code",
   "execution_count": 6,
   "metadata": {
    "id": "ii4KCrWGiTYY"
   },
   "outputs": [],
   "source": [
    "dataset = '/content/drive/My Drive/'\\\n",
    "        'Linked Commons Colab Notebooks/fdg_input_file.json'"
   ]
  },
  {
   "cell_type": "code",
   "execution_count": 7,
   "metadata": {
    "id": "R-FjE0YYjkKp"
   },
   "outputs": [],
   "source": [
    "gtG = create_graph_from_file(dataset, format='gt')"
   ]
  },
  {
   "cell_type": "code",
   "execution_count": 8,
   "metadata": {
    "colab": {
     "base_uri": "https://localhost:8080/",
     "height": 34
    },
    "id": "mvEylfAFncMu",
    "outputId": "d20f5d39-f07d-4ced-eb8b-be0c727f9a14"
   },
   "outputs": [
    {
     "name": "stdout",
     "output_type": "stream",
     "text": [
      "1.3653359413146973\n"
     ]
    }
   ],
   "source": [
    "tic = time.time()\n",
    "_ = gt.pagerank(gtG, epsilon=1e-4, weight=gtG.ep.weight)\n",
    "toc = time.time()\n",
    "print(toc - tic)"
   ]
  },
  {
   "cell_type": "markdown",
   "metadata": {
    "id": "emdASD0QfYV7"
   },
   "source": [
    "# Benchmarking `cugraph`"
   ]
  },
  {
   "cell_type": "markdown",
   "metadata": {
    "id": "jeftbsbaTwfd"
   },
   "source": [
    "The following code is adapted from [this Medium post](https://medium.com/dropout-analytics/installing-rapids-ai-in-google-colab-87c247f2c468), which is a direct copy of the code found at [Rapids AI's Github](https://github.com/rapidsai/rapidsai-csp-utils)"
   ]
  },
  {
   "cell_type": "code",
   "execution_count": 9,
   "metadata": {
    "colab": {
     "base_uri": "https://localhost:8080/",
     "height": 34
    },
    "id": "aZmsicJUNvcY",
    "outputId": "625bc72c-7240-40e8-e8ce-df80cd14cc85"
   },
   "outputs": [
    {
     "name": "stdout",
     "output_type": "stream",
     "text": [
      "Woo! You got the right kind of GPU!\n"
     ]
    }
   ],
   "source": [
    "import pynvml\n",
    "pynvml.nvmlInit()\n",
    "handle = pynvml.nvmlDeviceGetHandleByIndex(0)\n",
    "device_name = pynvml.nvmlDeviceGetName(handle)\n",
    "if (device_name != b'Tesla T4') and (device_name != b'Tesla P4') and (device_name != b'Tesla P100-PCIE-16GB'):\n",
    "  raise Exception(\"\"\"\n",
    "    Unfortunately this instance does not have a T4, P4 or P100 GPU.\n",
    "    \n",
    "    Please make sure you've configured Colab to request a GPU instance type.\n",
    "    \n",
    "    Sometimes Colab allocates a Tesla K80 instead of a T4, P4 or P100. Resetting the instance.\n",
    "If you get a K80 GPU, try Runtime -> Reset all runtimes...\n",
    "  \"\"\")\n",
    "else:\n",
    "  print('Woo! You got the right kind of GPU!')"
   ]
  },
  {
   "cell_type": "code",
   "execution_count": null,
   "metadata": {
    "colab": {
     "base_uri": "https://localhost:8080/",
     "height": 1000
    },
    "id": "upEZkCX6N6QN",
    "outputId": "c6c9a132-83fd-47d9-ccb2-ca5df2293014"
   },
   "outputs": [],
   "source": [
    "# Install RAPIDS\n",
    "!git clone https://github.com/rapidsai/rapidsai-csp-utils.git\n",
    "!bash rapidsai-csp-utils/colab/rapids-colab.sh stable\n",
    "\n",
    "import sys, os\n",
    "\n",
    "dist_package_index = sys.path.index('/usr/local/lib/python3.6/dist-packages')\n",
    "sys.path = sys.path[:dist_package_index] + ['/usr/local/lib/python3.6/site-packages'] + sys.path[dist_package_index:]\n",
    "sys.path\n",
    "exec(open('rapidsai-csp-utils/colab/update_modules.py').read(), globals())"
   ]
  },
  {
   "cell_type": "code",
   "execution_count": 11,
   "metadata": {
    "id": "pFojjrVDOA26"
   },
   "outputs": [],
   "source": [
    "import time\n",
    "\n",
    "import rmm\n",
    "import cudf\n",
    "import cugraph"
   ]
  },
  {
   "cell_type": "code",
   "execution_count": 12,
   "metadata": {
    "colab": {
     "base_uri": "https://localhost:8080/",
     "height": 54
    },
    "id": "IPHh52WTShRt",
    "outputId": "1f018d60-70ae-4e64-d8f2-3b83ab46544a"
   },
   "outputs": [
    {
     "name": "stdout",
     "output_type": "stream",
     "text": [
      "Drive already mounted at /content/drive/; to attempt to forcibly remount, call drive.mount(\"/content/drive/\", force_remount=True).\n"
     ]
    }
   ],
   "source": [
    "from google.colab import drive\n",
    "\n",
    "drive.mount('/content/drive/')"
   ]
  },
  {
   "cell_type": "code",
   "execution_count": 13,
   "metadata": {
    "colab": {
     "base_uri": "https://localhost:8080/",
     "height": 285
    },
    "id": "k1YXFkuOJcI0",
    "outputId": "779f0faf-fe2f-4bfc-90fa-d905b9d3ccdf"
   },
   "outputs": [
    {
     "data": {
      "text/html": [
       "<div>\n",
       "<style scoped>\n",
       "    .dataframe tbody tr th:only-of-type {\n",
       "        vertical-align: middle;\n",
       "    }\n",
       "\n",
       "    .dataframe tbody tr th {\n",
       "        vertical-align: top;\n",
       "    }\n",
       "\n",
       "    .dataframe thead th {\n",
       "        text-align: right;\n",
       "    }\n",
       "</style>\n",
       "<table border=\"1\" class=\"dataframe\">\n",
       "  <thead>\n",
       "    <tr style=\"text-align: right;\">\n",
       "      <th></th>\n",
       "      <th>src</th>\n",
       "      <th>dst</th>\n",
       "    </tr>\n",
       "  </thead>\n",
       "  <tbody>\n",
       "    <tr>\n",
       "      <th>0</th>\n",
       "      <td>0</td>\n",
       "      <td>1</td>\n",
       "    </tr>\n",
       "    <tr>\n",
       "      <th>1</th>\n",
       "      <td>0</td>\n",
       "      <td>1</td>\n",
       "    </tr>\n",
       "    <tr>\n",
       "      <th>2</th>\n",
       "      <td>1</td>\n",
       "      <td>3</td>\n",
       "    </tr>\n",
       "  </tbody>\n",
       "</table>\n",
       "</div>"
      ],
      "text/plain": [
       "   src  dst\n",
       "0    0    1\n",
       "1    0    1\n",
       "2    1    3"
      ]
     },
     "metadata": {
      "tags": []
     },
     "output_type": "display_data"
    },
    {
     "data": {
      "text/html": [
       "<div>\n",
       "<style scoped>\n",
       "    .dataframe tbody tr th:only-of-type {\n",
       "        vertical-align: middle;\n",
       "    }\n",
       "\n",
       "    .dataframe tbody tr th {\n",
       "        vertical-align: top;\n",
       "    }\n",
       "\n",
       "    .dataframe thead th {\n",
       "        text-align: right;\n",
       "    }\n",
       "</style>\n",
       "<table border=\"1\" class=\"dataframe\">\n",
       "  <thead>\n",
       "    <tr style=\"text-align: right;\">\n",
       "      <th></th>\n",
       "      <th>vertex</th>\n",
       "      <th>in_degree</th>\n",
       "      <th>out_degree</th>\n",
       "    </tr>\n",
       "  </thead>\n",
       "  <tbody>\n",
       "    <tr>\n",
       "      <th>0</th>\n",
       "      <td>0</td>\n",
       "      <td>0</td>\n",
       "      <td>2</td>\n",
       "    </tr>\n",
       "    <tr>\n",
       "      <th>1</th>\n",
       "      <td>1</td>\n",
       "      <td>2</td>\n",
       "      <td>1</td>\n",
       "    </tr>\n",
       "    <tr>\n",
       "      <th>2</th>\n",
       "      <td>2</td>\n",
       "      <td>0</td>\n",
       "      <td>0</td>\n",
       "    </tr>\n",
       "    <tr>\n",
       "      <th>3</th>\n",
       "      <td>3</td>\n",
       "      <td>1</td>\n",
       "      <td>0</td>\n",
       "    </tr>\n",
       "  </tbody>\n",
       "</table>\n",
       "</div>"
      ],
      "text/plain": [
       "   vertex  in_degree  out_degree\n",
       "0       0          0           2\n",
       "1       1          2           1\n",
       "2       2          0           0\n",
       "3       3          1           0"
      ]
     },
     "metadata": {
      "tags": []
     },
     "output_type": "display_data"
    }
   ],
   "source": [
    "# Testing to see if cugraph allows parallel edges\n",
    "src = [0, 0, 1]\n",
    "dst = [1, 1, 3]\n",
    "df = cudf.DataFrame()\n",
    "df['src'] = src\n",
    "df['dst'] = dst\n",
    "display(df)\n",
    "\n",
    "G = cugraph.DiGraph()\n",
    "G.from_cudf_edgelist(df, source='src', destination='dst', renumber=False)\n",
    "\n",
    "display(G.degrees()) # Parallel edges work as expected."
   ]
  },
  {
   "cell_type": "code",
   "execution_count": 14,
   "metadata": {
    "id": "cUVpoHnK-vi6"
   },
   "outputs": [],
   "source": [
    "dataset = '/content/drive/My Drive/'\\\n",
    "        'Linked Commons Colab Notebooks/fdg_input_file.json'\n",
    "csv = 'edges.csv'\n",
    "csv_multi_edges = 'multi_edges.csv'"
   ]
  },
  {
   "cell_type": "code",
   "execution_count": 15,
   "metadata": {
    "id": "Yb_-jYJrDn9x"
   },
   "outputs": [],
   "source": [
    "import json\n",
    "import os\n",
    "\n",
    "def json_to_csv(in_file, out_file, parallel_edges=False):\n",
    "    with open(in_file, 'r') as f:\n",
    "        data = json.load(f)\n",
    "    nodes = data['nodes']\n",
    "    links = data['links']\n",
    "    ids = dict()\n",
    "    counter = 0\n",
    "    for node in nodes:\n",
    "        if node['id'] not in ids:\n",
    "            # Should I also create the inverse dictionary?\n",
    "            ids[node['id']] = counter\n",
    "            counter += 1\n",
    "    with open(out_file, 'w') as f:\n",
    "        for link in links:\n",
    "            src_id = str(ids[link['source']])\n",
    "            dst_id = str(ids[link['target']])\n",
    "            if parallel_edges:\n",
    "                for _ in range(link['value']):\n",
    "                    f.write(src_id + ',' + dst_id + '\\n')\n",
    "            else:\n",
    "                f.write(src_id + ',' + dst_id + '\\n')"
   ]
  },
  {
   "cell_type": "code",
   "execution_count": 16,
   "metadata": {
    "colab": {
     "base_uri": "https://localhost:8080/",
     "height": 50
    },
    "id": "s7isNbwrEMqL",
    "outputId": "cf9b1f3f-bf8d-48e8-c3e9-201d718e28e6"
   },
   "outputs": [
    {
     "name": "stdout",
     "output_type": "stream",
     "text": [
      "18.615588665008545\n",
      "238.70451498031616\n"
     ]
    }
   ],
   "source": [
    "if not os.path.exists(csv):\n",
    "    tic = time.time()\n",
    "    json_to_csv(dataset, csv)\n",
    "    toc = time.time()\n",
    "    print(toc - tic)\n",
    "\n",
    "if not os.path.exists(csv_multi_edges):\n",
    "    tic = time.time()\n",
    "    json_to_csv(dataset, csv_multi_edges, parallel_edges=True)\n",
    "    toc = time.time()\n",
    "    print(toc - tic)"
   ]
  },
  {
   "cell_type": "code",
   "execution_count": 17,
   "metadata": {
    "colab": {
     "base_uri": "https://localhost:8080/",
     "height": 50
    },
    "id": "77gfB4gXF33t",
    "outputId": "9714eb84-b352-4825-e553-b25e339f31d1"
   },
   "outputs": [
    {
     "name": "stdout",
     "output_type": "stream",
     "text": [
      "52M\tedges.csv\n",
      "9.5G\tmulti_edges.csv\n"
     ]
    }
   ],
   "source": [
    "!du -h edges.csv\n",
    "!du -h multi_edges.csv"
   ]
  },
  {
   "cell_type": "markdown",
   "metadata": {
    "id": "7t85VVOG7uLY"
   },
   "source": [
    "Below cell gives us some very simple benchmarks about using `cugraph`. PageRank is quite fast (36 ms on ~400k edges) but, without enabling oversubscription, it fails on the larger case (with ~200x the number of edges). Oversubscription is supposed to be easy using the `rmm` module, but Colab crashes every time I try to do a computation using `rmm` for memory management."
   ]
  },
  {
   "cell_type": "code",
   "execution_count": 18,
   "metadata": {
    "id": "1j2ia42KDCgG"
   },
   "outputs": [],
   "source": [
    "# FIXME: Colab crashes when trying to use managed memory\n",
    "# rmm.reinitialize(managed_memory=True)\n",
    "# assert rmm.is_initialized()"
   ]
  },
  {
   "cell_type": "code",
   "execution_count": 19,
   "metadata": {
    "colab": {
     "base_uri": "https://localhost:8080/",
     "height": 643
    },
    "id": "XK685s6cYviK",
    "outputId": "3f9cc3e9-3298-469e-d6db-995a04345771"
   },
   "outputs": [
    {
     "name": "stdout",
     "output_type": "stream",
     "text": [
      "Analyzing: edges.csv\n",
      "Reading CSV: 1.4415392875671387\n",
      "Constructing graph: 0.0004985332489013672\n",
      "Computing PageRank: 0.15007328987121582\n",
      "Analyzing: multi_edges.csv\n"
     ]
    },
    {
     "ename": "MemoryError",
     "evalue": "ignored",
     "output_type": "error",
     "traceback": [
      "\u001b[0;31m---------------------------------------------------------------------------\u001b[0m",
      "\u001b[0;31mMemoryError\u001b[0m                               Traceback (most recent call last)",
      "\u001b[0;32m<ipython-input-19-bf018e14df05>\u001b[0m in \u001b[0;36m<module>\u001b[0;34m()\u001b[0m\n\u001b[1;32m      2\u001b[0m     \u001b[0mprint\u001b[0m\u001b[0;34m(\u001b[0m\u001b[0;34m\"Analyzing:\"\u001b[0m\u001b[0;34m,\u001b[0m \u001b[0medge_list\u001b[0m\u001b[0;34m)\u001b[0m\u001b[0;34m\u001b[0m\u001b[0;34m\u001b[0m\u001b[0m\n\u001b[1;32m      3\u001b[0m     \u001b[0mtic\u001b[0m \u001b[0;34m=\u001b[0m \u001b[0mtime\u001b[0m\u001b[0;34m.\u001b[0m\u001b[0mtime\u001b[0m\u001b[0;34m(\u001b[0m\u001b[0;34m)\u001b[0m\u001b[0;34m\u001b[0m\u001b[0;34m\u001b[0m\u001b[0m\n\u001b[0;32m----> 4\u001b[0;31m     \u001b[0mgdf\u001b[0m \u001b[0;34m=\u001b[0m \u001b[0mcudf\u001b[0m\u001b[0;34m.\u001b[0m\u001b[0mread_csv\u001b[0m\u001b[0;34m(\u001b[0m\u001b[0medge_list\u001b[0m\u001b[0;34m,\u001b[0m \u001b[0mnames\u001b[0m\u001b[0;34m=\u001b[0m\u001b[0;34m[\u001b[0m\u001b[0;34m'src'\u001b[0m\u001b[0;34m,\u001b[0m \u001b[0;34m'dst'\u001b[0m\u001b[0;34m]\u001b[0m\u001b[0;34m)\u001b[0m\u001b[0;34m\u001b[0m\u001b[0;34m\u001b[0m\u001b[0m\n\u001b[0m\u001b[1;32m      5\u001b[0m     \u001b[0mtoc\u001b[0m \u001b[0;34m=\u001b[0m \u001b[0mtime\u001b[0m\u001b[0;34m.\u001b[0m\u001b[0mtime\u001b[0m\u001b[0;34m(\u001b[0m\u001b[0;34m)\u001b[0m\u001b[0;34m\u001b[0m\u001b[0;34m\u001b[0m\u001b[0m\n\u001b[1;32m      6\u001b[0m     \u001b[0mprint\u001b[0m\u001b[0;34m(\u001b[0m\u001b[0;34m\"Reading CSV:\"\u001b[0m\u001b[0;34m,\u001b[0m \u001b[0mtoc\u001b[0m\u001b[0;34m-\u001b[0m\u001b[0mtic\u001b[0m\u001b[0;34m)\u001b[0m\u001b[0;34m\u001b[0m\u001b[0;34m\u001b[0m\u001b[0m\n",
      "\u001b[0;32m/usr/lib/python3.6/contextlib.py\u001b[0m in \u001b[0;36minner\u001b[0;34m(*args, **kwds)\u001b[0m\n\u001b[1;32m     50\u001b[0m         \u001b[0;32mdef\u001b[0m \u001b[0minner\u001b[0m\u001b[0;34m(\u001b[0m\u001b[0;34m*\u001b[0m\u001b[0margs\u001b[0m\u001b[0;34m,\u001b[0m \u001b[0;34m**\u001b[0m\u001b[0mkwds\u001b[0m\u001b[0;34m)\u001b[0m\u001b[0;34m:\u001b[0m\u001b[0;34m\u001b[0m\u001b[0;34m\u001b[0m\u001b[0m\n\u001b[1;32m     51\u001b[0m             \u001b[0;32mwith\u001b[0m \u001b[0mself\u001b[0m\u001b[0;34m.\u001b[0m\u001b[0m_recreate_cm\u001b[0m\u001b[0;34m(\u001b[0m\u001b[0;34m)\u001b[0m\u001b[0;34m:\u001b[0m\u001b[0;34m\u001b[0m\u001b[0;34m\u001b[0m\u001b[0m\n\u001b[0;32m---> 52\u001b[0;31m                 \u001b[0;32mreturn\u001b[0m \u001b[0mfunc\u001b[0m\u001b[0;34m(\u001b[0m\u001b[0;34m*\u001b[0m\u001b[0margs\u001b[0m\u001b[0;34m,\u001b[0m \u001b[0;34m**\u001b[0m\u001b[0mkwds\u001b[0m\u001b[0;34m)\u001b[0m\u001b[0;34m\u001b[0m\u001b[0;34m\u001b[0m\u001b[0m\n\u001b[0m\u001b[1;32m     53\u001b[0m         \u001b[0;32mreturn\u001b[0m \u001b[0minner\u001b[0m\u001b[0;34m\u001b[0m\u001b[0;34m\u001b[0m\u001b[0m\n\u001b[1;32m     54\u001b[0m \u001b[0;34m\u001b[0m\u001b[0m\n",
      "\u001b[0;32m/usr/local/lib/python3.6/site-packages/cudf/io/csv.py\u001b[0m in \u001b[0;36mread_csv\u001b[0;34m(filepath_or_buffer, lineterminator, quotechar, quoting, doublequote, header, mangle_dupe_cols, usecols, sep, delimiter, delim_whitespace, skipinitialspace, names, dtype, skipfooter, skiprows, dayfirst, compression, thousands, decimal, true_values, false_values, nrows, byte_range, skip_blank_lines, parse_dates, comment, na_values, keep_default_na, na_filter, prefix, index_col, **kwargs)\u001b[0m\n\u001b[1;32m     82\u001b[0m         \u001b[0mna_filter\u001b[0m\u001b[0;34m=\u001b[0m\u001b[0mna_filter\u001b[0m\u001b[0;34m,\u001b[0m\u001b[0;34m\u001b[0m\u001b[0;34m\u001b[0m\u001b[0m\n\u001b[1;32m     83\u001b[0m         \u001b[0mprefix\u001b[0m\u001b[0;34m=\u001b[0m\u001b[0mprefix\u001b[0m\u001b[0;34m,\u001b[0m\u001b[0;34m\u001b[0m\u001b[0;34m\u001b[0m\u001b[0m\n\u001b[0;32m---> 84\u001b[0;31m         \u001b[0mindex_col\u001b[0m\u001b[0;34m=\u001b[0m\u001b[0mindex_col\u001b[0m\u001b[0;34m,\u001b[0m\u001b[0;34m\u001b[0m\u001b[0;34m\u001b[0m\u001b[0m\n\u001b[0m\u001b[1;32m     85\u001b[0m     )\n\u001b[1;32m     86\u001b[0m \u001b[0;34m\u001b[0m\u001b[0m\n",
      "\u001b[0;32mcudf/_lib/csv.pyx\u001b[0m in \u001b[0;36mcudf._lib.csv.read_csv\u001b[0;34m()\u001b[0m\n",
      "\u001b[0;31mMemoryError\u001b[0m: std::bad_alloc: CUDA error at: /conda/conda-bld/librmm_1591196551527/work/include/rmm/mr/device/cuda_memory_resource.hpp66: cudaErrorMemoryAllocation out of memory"
     ]
    }
   ],
   "source": [
    "for edge_list in [csv, csv_multi_edges]:\n",
    "    print(\"Analyzing:\", edge_list)\n",
    "    tic = time.time()\n",
    "    gdf = cudf.read_csv(edge_list, names=['src', 'dst'])\n",
    "    toc = time.time()\n",
    "    print(\"Reading CSV:\", toc-tic)\n",
    "\n",
    "    tic = time.time()\n",
    "    G = cugraph.DiGraph()\n",
    "    G.from_cudf_edgelist(gdf, source='src', destination='dst', renumber=False)\n",
    "    toc = time.time()\n",
    "    print(\"Constructing graph:\", toc - tic)\n",
    "\n",
    "    tic = time.time()\n",
    "    ranks = cugraph.pagerank(G, tol=1e-4)\n",
    "    toc = time.time()\n",
    "    print(\"Computing PageRank:\", toc - tic)\n",
    "\n",
    "    G.clear()"
   ]
  }
 ],
 "metadata": {
  "accelerator": "GPU",
  "colab": {
   "collapsed_sections": [],
   "name": "CugraphColab.ipynb",
   "provenance": []
  },
  "kernelspec": {
   "display_name": "Python 3",
   "language": "python",
   "name": "python3"
  },
  "language_info": {
   "codemirror_mode": {
    "name": "ipython",
    "version": 3
   },
   "file_extension": ".py",
   "mimetype": "text/x-python",
   "name": "python",
   "nbconvert_exporter": "python",
   "pygments_lexer": "ipython3",
   "version": "3.8.5"
  }
 },
 "nbformat": 4,
 "nbformat_minor": 4
}
