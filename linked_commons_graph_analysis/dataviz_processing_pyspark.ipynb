{
 "cells": [
  {
   "cell_type": "code",
   "execution_count": 1,
   "metadata": {},
   "outputs": [
    {
     "data": {
      "application/vnd.jupyter.widget-view+json": {
       "model_id": "4501af6e632346acb598f5e3194ff052",
       "version_major": 2,
       "version_minor": 0
      },
      "text/plain": [
       "VBox()"
      ]
     },
     "metadata": {},
     "output_type": "display_data"
    },
    {
     "name": "stdout",
     "output_type": "stream",
     "text": [
      "Starting Spark application\n"
     ]
    },
    {
     "data": {
      "text/html": [
       "<table>\n",
       "<tr><th>ID</th><th>YARN Application ID</th><th>Kind</th><th>State</th><th>Spark UI</th><th>Driver log</th><th>Current session?</th></tr><tr><td>3</td><td>application_1593586031152_0004</td><td>pyspark</td><td>idle</td><td><a target=\"_blank\" href=\"http://ip-172-30-3-60.ec2.internal:20888/proxy/application_1593586031152_0004/\">Link</a></td><td><a target=\"_blank\" href=\"http://ip-172-30-3-26.ec2.internal:8042/node/containerlogs/container_1593586031152_0004_01_000001/livy\">Link</a></td><td>✔</td></tr></table>"
      ],
      "text/plain": [
       "<IPython.core.display.HTML object>"
      ]
     },
     "metadata": {},
     "output_type": "display_data"
    },
    {
     "data": {
      "application/vnd.jupyter.widget-view+json": {
       "model_id": "",
       "version_major": 2,
       "version_minor": 0
      },
      "text/plain": [
       "FloatProgress(value=0.0, bar_style='info', description='Progress:', layout=Layout(height='25px', width='50%'),…"
      ]
     },
     "metadata": {},
     "output_type": "display_data"
    },
    {
     "name": "stdout",
     "output_type": "stream",
     "text": [
      "SparkSession available as 'spark'.\n"
     ]
    },
    {
     "data": {
      "application/vnd.jupyter.widget-view+json": {
       "model_id": "",
       "version_major": 2,
       "version_minor": 0
      },
      "text/plain": [
       "FloatProgress(value=0.0, bar_style='info', description='Progress:', layout=Layout(height='25px', width='50%'),…"
      ]
     },
     "metadata": {},
     "output_type": "display_data"
    }
   ],
   "source": [
    "from pyspark.sql.types import StructType, StringType, StructField\n",
    "import pyspark.sql.functions as F\n",
    "import collections\n",
    "import functools\n",
    "import logging\n",
    "import operator\n",
    "import tldextract\n",
    "import json\n",
    "import re"
   ]
  },
  {
   "cell_type": "code",
   "execution_count": 2,
   "metadata": {},
   "outputs": [
    {
     "data": {
      "application/vnd.jupyter.widget-view+json": {
       "model_id": "7d99c7ae02ff46b09b22b813beec8589",
       "version_major": 2,
       "version_minor": 0
      },
      "text/plain": [
       "VBox()"
      ]
     },
     "metadata": {},
     "output_type": "display_data"
    },
    {
     "data": {
      "application/vnd.jupyter.widget-view+json": {
       "model_id": "",
       "version_major": 2,
       "version_minor": 0
      },
      "text/plain": [
       "FloatProgress(value=0.0, bar_style='info', description='Progress:', layout=Layout(height='25px', width='50%'),…"
      ]
     },
     "metadata": {},
     "output_type": "display_data"
    }
   ],
   "source": [
    "NUM_PARTITIONS = 200\n",
    "INDEX = 'CC-MAIN-2020-16'"
   ]
  },
  {
   "cell_type": "code",
   "execution_count": 3,
   "metadata": {},
   "outputs": [
    {
     "data": {
      "application/vnd.jupyter.widget-view+json": {
       "model_id": "55aa1b531da54893bc25b1572c3eafa1",
       "version_major": 2,
       "version_minor": 0
      },
      "text/plain": [
       "VBox()"
      ]
     },
     "metadata": {},
     "output_type": "display_data"
    },
    {
     "data": {
      "application/vnd.jupyter.widget-view+json": {
       "model_id": "",
       "version_major": 2,
       "version_minor": 0
      },
      "text/plain": [
       "FloatProgress(value=0.0, bar_style='info', description='Progress:', layout=Layout(height='25px', width='50%'),…"
      ]
     },
     "metadata": {},
     "output_type": "display_data"
    }
   ],
   "source": [
    "def extract_provider(provider_domain):\n",
    "    try:\n",
    "        extracted = tldextract.extract(provider_domain)\n",
    "        if extracted.domain:\n",
    "            return extracted.domain\n",
    "    except:\n",
    "        pass\n",
    "    return provider_domain\n",
    "\n",
    "\n",
    "def get_license(_path):\n",
    "    license = \"\"\n",
    "    version = \"\"\n",
    "\n",
    "    # how do we handle providers that link to the image for the license? See example below\n",
    "    # format this case /i.creativecommons.org/l/by-nc-sa/3.0/us/88x31.png\n",
    "    _path = re.sub(r\"^(/i\\.creativecommons\\.org)\", \"\", _path)\n",
    "\n",
    "    if _path.startswith(\"/l/\"):\n",
    "        _path = \"/licenses/{}\".format(_path.lstrip(\"/l/\"))\n",
    "    elif _path.startswith(\"/p/\"):\n",
    "        _path = \"/publicdomain/{}\".format(_path.lstrip(\"/p/\"))\n",
    "\n",
    "    pattern = re.compile(\"/(licenses|publicdomain)/([a-z\\-?]+)/(\\d\\.\\d)/?(.*?)\")\n",
    "    if pattern.match(_path.lower()):\n",
    "        result = re.search(pattern, _path.lower())\n",
    "        license = result.group(2).lower().strip()\n",
    "        version = result.group(3).strip()\n",
    "\n",
    "        if result.group(1) == \"publicdomain\":\n",
    "            if license == \"zero\":\n",
    "                license = \"cc0\"\n",
    "            elif license == \"mark\":\n",
    "                license = \"pdm\"\n",
    "            else:\n",
    "                logging.warning(\"License not detected!\")\n",
    "                return None\n",
    "\n",
    "        elif license == \"\":\n",
    "            logging.warning(\"License not detected!\")\n",
    "            return None\n",
    "\n",
    "        return [license, version]\n",
    "\n",
    "    return None\n",
    "\n",
    "\n",
    "def get_license_string(license_path):\n",
    "    license_list = get_license(license_path)\n",
    "    return \"---\".join(license_list) if license_list else None\n",
    "\n",
    "\n",
    "extract_provider_udf = F.udf(extract_provider, StringType())\n",
    "get_license_string_udf = F.udf(get_license_string, StringType())"
   ]
  },
  {
   "cell_type": "code",
   "execution_count": 4,
   "metadata": {},
   "outputs": [
    {
     "data": {
      "application/vnd.jupyter.widget-view+json": {
       "model_id": "424138f673254528a95945df469d576b",
       "version_major": 2,
       "version_minor": 0
      },
      "text/plain": [
       "VBox()"
      ]
     },
     "metadata": {},
     "output_type": "display_data"
    },
    {
     "data": {
      "application/vnd.jupyter.widget-view+json": {
       "model_id": "",
       "version_major": 2,
       "version_minor": 0
      },
      "text/plain": [
       "FloatProgress(value=0.0, bar_style='info', description='Progress:', layout=Layout(height='25px', width='50%'),…"
      ]
     },
     "metadata": {},
     "output_type": "display_data"
    }
   ],
   "source": [
    "provider_df = (\n",
    "    spark.read.parquet(\"s3://commonsmapper-v2/data/crawl_index={}\".format(INDEX))\n",
    "    .select(\n",
    "        \"provider_domain\",\n",
    "        \"content_path\",\n",
    "        \"content_query_string\",\n",
    "        \"cc_license\",\n",
    "        \"html_metadata\",\n",
    "    )\n",
    "    .dropDuplicates(\n",
    "        ['provider_domain', 'content_path', 'content_query_string']\n",
    "    )\n",
    "    .drop('content_path')\n",
    "    .drop('content_query_string')\n",
    "    .withColumn(\"images\", F.get_json_object(\"html_metadata\", \"$.Images\"))\n",
    "    .withColumn(\"links\", F.get_json_object(\"html_metadata\", \"$.Links\"))\n",
    "    .drop(\"html_metadata\")\n",
    "    .repartition(NUM_PARTITIONS)\n",
    ")"
   ]
  },
  {
   "cell_type": "code",
   "execution_count": 5,
   "metadata": {},
   "outputs": [
    {
     "data": {
      "application/vnd.jupyter.widget-view+json": {
       "model_id": "362d7bda13e14572b161a75752c44281",
       "version_major": 2,
       "version_minor": 0
      },
      "text/plain": [
       "VBox()"
      ]
     },
     "metadata": {},
     "output_type": "display_data"
    },
    {
     "data": {
      "application/vnd.jupyter.widget-view+json": {
       "model_id": "",
       "version_major": 2,
       "version_minor": 0
      },
      "text/plain": [
       "FloatProgress(value=0.0, bar_style='info', description='Progress:', layout=Layout(height='25px', width='50%'),…"
      ]
     },
     "metadata": {},
     "output_type": "display_data"
    }
   ],
   "source": [
    "base_df = (\n",
    "    provider_df\n",
    "    .withColumn(\"provider_name\", extract_provider_udf(\"provider_domain\"))\n",
    "    .withColumn(\"cc_license\", get_license_string_udf(\"cc_license\"))\n",
    ")\n",
    "\n",
    "# Filter for some arbitrary providers to reduce data for testing.\n",
    "# Comment this out for the real thing.\n",
    "# base_df = base_df.filter(\n",
    "#     (base_df.provider_name == 'afpls')\n",
    "#     | (base_df.provider_name == 'rudn-mr')\n",
    "#     | (base_df.provider_name == 'attert')\n",
    "#     | (base_df.provider_name == 'santamariadelparamo')\n",
    "# ) \n"
   ]
  },
  {
   "cell_type": "code",
   "execution_count": 6,
   "metadata": {},
   "outputs": [
    {
     "data": {
      "application/vnd.jupyter.widget-view+json": {
       "model_id": "d02c49e8d6ae4fd1874054063faa1b9e",
       "version_major": 2,
       "version_minor": 0
      },
      "text/plain": [
       "VBox()"
      ]
     },
     "metadata": {},
     "output_type": "display_data"
    },
    {
     "data": {
      "application/vnd.jupyter.widget-view+json": {
       "model_id": "",
       "version_major": 2,
       "version_minor": 0
      },
      "text/plain": [
       "FloatProgress(value=0.0, bar_style='info', description='Progress:', layout=Layout(height='25px', width='50%'),…"
      ]
     },
     "metadata": {},
     "output_type": "display_data"
    },
    {
     "name": "stdout",
     "output_type": "stream",
     "text": [
      "DataFrame[provider_domain: string, cc_license: string, images: string, links: string, provider_name: string]"
     ]
    }
   ],
   "source": [
    "base_df.cache()\n",
    "# base_df.show()"
   ]
  },
  {
   "cell_type": "code",
   "execution_count": 7,
   "metadata": {},
   "outputs": [
    {
     "data": {
      "application/vnd.jupyter.widget-view+json": {
       "model_id": "1050830c5a5a4b1596c2131d4fc30df5",
       "version_major": 2,
       "version_minor": 0
      },
      "text/plain": [
       "VBox()"
      ]
     },
     "metadata": {},
     "output_type": "display_data"
    },
    {
     "data": {
      "application/vnd.jupyter.widget-view+json": {
       "model_id": "",
       "version_major": 2,
       "version_minor": 0
      },
      "text/plain": [
       "FloatProgress(value=0.0, bar_style='info', description='Progress:', layout=Layout(height='25px', width='50%'),…"
      ]
     },
     "metadata": {},
     "output_type": "display_data"
    }
   ],
   "source": [
    "links_all_df = (\n",
    "    base_df\n",
    "    .select(\"provider_name\", \"links\")\n",
    "    .withColumn(\"link_map\", F.from_json(\"links\", \"MAP<STRING,INT>\"))\n",
    "    .select(\"provider_name\", F.explode_outer(\"link_map\"))\n",
    "    .na.drop()\n",
    "    .repartition(NUM_PARTITIONS)\n",
    "    .withColumn(\"target\", extract_provider_udf(\"key\"))\n",
    ")"
   ]
  },
  {
   "cell_type": "code",
   "execution_count": 16,
   "metadata": {},
   "outputs": [
    {
     "data": {
      "application/vnd.jupyter.widget-view+json": {
       "model_id": "ae408e957a384207a7bbeeb762bc07b5",
       "version_major": 2,
       "version_minor": 0
      },
      "text/plain": [
       "VBox()"
      ]
     },
     "metadata": {},
     "output_type": "display_data"
    },
    {
     "data": {
      "application/vnd.jupyter.widget-view+json": {
       "model_id": "",
       "version_major": 2,
       "version_minor": 0
      },
      "text/plain": [
       "FloatProgress(value=0.0, bar_style='info', description='Progress:', layout=Layout(height='25px', width='50%'),…"
      ]
     },
     "metadata": {},
     "output_type": "display_data"
    }
   ],
   "source": [
    "target_df = links_all_df.select(links_all_df.provider_name.alias(\"target\")).distinct()\n",
    "filtered_targets_links_df = links_all_df.join(target_df, 'target', 'inner').repartition(NUM_PARTITIONS)"
   ]
  },
  {
   "cell_type": "code",
   "execution_count": 17,
   "metadata": {},
   "outputs": [
    {
     "data": {
      "application/vnd.jupyter.widget-view+json": {
       "model_id": "ff63ac08e5b2485ab9bc953592367bf7",
       "version_major": 2,
       "version_minor": 0
      },
      "text/plain": [
       "VBox()"
      ]
     },
     "metadata": {},
     "output_type": "display_data"
    },
    {
     "data": {
      "application/vnd.jupyter.widget-view+json": {
       "model_id": "",
       "version_major": 2,
       "version_minor": 0
      },
      "text/plain": [
       "FloatProgress(value=0.0, bar_style='info', description='Progress:', layout=Layout(height='25px', width='50%'),…"
      ]
     },
     "metadata": {},
     "output_type": "display_data"
    }
   ],
   "source": [
    "links_json_df = (\n",
    "    filtered_targets_links_df\n",
    "    .groupBy(\"provider_name\", \"target\")\n",
    "    .agg(F.sum(\"value\").alias(\"total\"))\n",
    "    .repartition(NUM_PARTITIONS)\n",
    "    .select(\"provider_name\", F.struct(\"target\", \"total\").alias(\"links\"))\n",
    "    .withColumn(\n",
    "        \"total_cc_links\", \n",
    "        F\n",
    "        .when(\n",
    "            F.col(\"links\").target == 'creativecommons',\n",
    "            F.col(\"links\").total\n",
    "        )\n",
    "        .otherwise(0)\n",
    "    )\n",
    "    .withColumn(\n",
    "        \"links\",\n",
    "        F\n",
    "        .when(\n",
    "            F.col(\"links\").target == 'creativecommons',\n",
    "            None\n",
    "        )\n",
    "        .otherwise(F.col(\"links\"))\n",
    "    )\n",
    "    .groupBy(\"provider_name\")\n",
    "    .agg(\n",
    "        F.collect_list(\"links\").alias(\"links\"),\n",
    "        F.sum(\"total_cc_links\").alias(\"total_cc_links\")\n",
    "    )\n",
    "    .filter(F.col(\"total_cc_links\") > 0)\n",
    "    .repartition(NUM_PARTITIONS)\n",
    "    .withColumn(\"agg_map_links\", F.map_from_entries(\"links\"))\n",
    "    .select(\"provider_name\", \"total_cc_links\", F.to_json(\"agg_map_links\").alias(\"links\"))\n",
    "    .repartition(NUM_PARTITIONS)\n",
    ")"
   ]
  },
  {
   "cell_type": "code",
   "execution_count": 18,
   "metadata": {},
   "outputs": [
    {
     "data": {
      "application/vnd.jupyter.widget-view+json": {
       "model_id": "039519b86535496db096bbc48cb06e72",
       "version_major": 2,
       "version_minor": 0
      },
      "text/plain": [
       "VBox()"
      ]
     },
     "metadata": {},
     "output_type": "display_data"
    },
    {
     "data": {
      "application/vnd.jupyter.widget-view+json": {
       "model_id": "",
       "version_major": 2,
       "version_minor": 0
      },
      "text/plain": [
       "FloatProgress(value=0.0, bar_style='info', description='Progress:', layout=Layout(height='25px', width='50%'),…"
      ]
     },
     "metadata": {},
     "output_type": "display_data"
    }
   ],
   "source": [
    "licenses_df = (\n",
    "    base_df\n",
    "    .select(\"provider_name\", \"cc_license\")\n",
    "    .na.drop()\n",
    "    .repartition(NUM_PARTITIONS)\n",
    "    .groupBy(\"provider_name\", \"cc_license\")\n",
    "    .agg(F.count(\"cc_license\").alias(\"total\"))\n",
    "    .repartition(NUM_PARTITIONS)\n",
    "    .select(\"provider_name\", F.struct(\"cc_license\", \"total\").alias(\"cc_license\"))\n",
    "    .groupBy(\"provider_name\")\n",
    "    .agg(F.collect_list(\"cc_license\").alias(\"cc_license_arr\"))\n",
    "    .repartition(NUM_PARTITIONS)\n",
    "    .withColumn(\"agg_map_licenses\", F.map_from_entries(\"cc_license_arr\"))\n",
    "    .select(\"provider_name\", F.to_json(\"agg_map_licenses\").alias(\"cc_license\"))\n",
    "    .repartition(NUM_PARTITIONS)\n",
    ")"
   ]
  },
  {
   "cell_type": "code",
   "execution_count": 19,
   "metadata": {},
   "outputs": [
    {
     "data": {
      "application/vnd.jupyter.widget-view+json": {
       "model_id": "d97903553e734871932f14d79844af6d",
       "version_major": 2,
       "version_minor": 0
      },
      "text/plain": [
       "VBox()"
      ]
     },
     "metadata": {},
     "output_type": "display_data"
    },
    {
     "data": {
      "application/vnd.jupyter.widget-view+json": {
       "model_id": "",
       "version_major": 2,
       "version_minor": 0
      },
      "text/plain": [
       "FloatProgress(value=0.0, bar_style='info', description='Progress:', layout=Layout(height='25px', width='50%'),…"
      ]
     },
     "metadata": {},
     "output_type": "display_data"
    }
   ],
   "source": [
    "images_df = (\n",
    "    base_df\n",
    "    .select(\"provider_name\", \"provider_domain\", \"images\")\n",
    "    .na.drop()\n",
    "    .groupBy(\"provider_name\")\n",
    "    .agg(\n",
    "        F.first(\"provider_domain\").alias(\"provider_domain\"),\n",
    "        F.sum(\"images\").alias(\"images\")\n",
    "    )\n",
    "    .repartition(NUM_PARTITIONS)\n",
    ")"
   ]
  },
  {
   "cell_type": "code",
   "execution_count": 20,
   "metadata": {},
   "outputs": [
    {
     "data": {
      "application/vnd.jupyter.widget-view+json": {
       "model_id": "d623640489d841aaa071a11fcd7cbeba",
       "version_major": 2,
       "version_minor": 0
      },
      "text/plain": [
       "VBox()"
      ]
     },
     "metadata": {},
     "output_type": "display_data"
    },
    {
     "data": {
      "application/vnd.jupyter.widget-view+json": {
       "model_id": "",
       "version_major": 2,
       "version_minor": 0
      },
      "text/plain": [
       "FloatProgress(value=0.0, bar_style='info', description='Progress:', layout=Layout(height='25px', width='50%'),…"
      ]
     },
     "metadata": {},
     "output_type": "display_data"
    }
   ],
   "source": [
    "output_df = (\n",
    "    links_json_df\n",
    "    .join(licenses_df, \"provider_name\", \"inner\")\n",
    "    .join(images_df, \"provider_name\", \"inner\")\n",
    "    .repartition(NUM_PARTITIONS)\n",
    ")"
   ]
  },
  {
   "cell_type": "code",
   "execution_count": 21,
   "metadata": {},
   "outputs": [
    {
     "data": {
      "application/vnd.jupyter.widget-view+json": {
       "model_id": "a80a9278acb54b6c8c45999e481786c8",
       "version_major": 2,
       "version_minor": 0
      },
      "text/plain": [
       "VBox()"
      ]
     },
     "metadata": {},
     "output_type": "display_data"
    },
    {
     "data": {
      "application/vnd.jupyter.widget-view+json": {
       "model_id": "",
       "version_major": 2,
       "version_minor": 0
      },
      "text/plain": [
       "FloatProgress(value=0.0, bar_style='info', description='Progress:', layout=Layout(height='25px', width='50%'),…"
      ]
     },
     "metadata": {},
     "output_type": "display_data"
    },
    {
     "name": "stdout",
     "output_type": "stream",
     "text": [
      "DataFrame[provider_name: string, total_cc_links: bigint, links: string, cc_license: string, provider_domain: string, images: double]"
     ]
    }
   ],
   "source": [
    "output_df"
   ]
  },
  {
   "cell_type": "code",
   "execution_count": 12,
   "metadata": {},
   "outputs": [
    {
     "data": {
      "application/vnd.jupyter.widget-view+json": {
       "model_id": "cb0724fb4402462aa3964857ffd2bd20",
       "version_major": 2,
       "version_minor": 0
      },
      "text/plain": [
       "VBox()"
      ]
     },
     "metadata": {},
     "output_type": "display_data"
    },
    {
     "data": {
      "application/vnd.jupyter.widget-view+json": {
       "model_id": "",
       "version_major": 2,
       "version_minor": 0
      },
      "text/plain": [
       "FloatProgress(value=0.0, bar_style='info', description='Progress:', layout=Layout(height='25px', width='50%'),…"
      ]
     },
     "metadata": {},
     "output_type": "display_data"
    },
    {
     "name": "stdout",
     "output_type": "stream",
     "text": [
      "4"
     ]
    }
   ],
   "source": [
    "# output_df.count()"
   ]
  },
  {
   "cell_type": "code",
   "execution_count": 22,
   "metadata": {},
   "outputs": [
    {
     "data": {
      "application/vnd.jupyter.widget-view+json": {
       "model_id": "6cefb2a624da48afb947249be4d336d0",
       "version_major": 2,
       "version_minor": 0
      },
      "text/plain": [
       "VBox()"
      ]
     },
     "metadata": {},
     "output_type": "display_data"
    },
    {
     "data": {
      "application/vnd.jupyter.widget-view+json": {
       "model_id": "",
       "version_major": 2,
       "version_minor": 0
      },
      "text/plain": [
       "FloatProgress(value=0.0, bar_style='info', description='Progress:', layout=Layout(height='25px', width='50%'),…"
      ]
     },
     "metadata": {},
     "output_type": "display_data"
    },
    {
     "name": "stderr",
     "output_type": "stream",
     "text": [
      "Exception in thread cell_monitor-22:\n",
      "Traceback (most recent call last):\n",
      "  File \"/emr/notebook-env/lib/python3.7/threading.py\", line 926, in _bootstrap_inner\n",
      "    self.run()\n",
      "  File \"/emr/notebook-env/lib/python3.7/threading.py\", line 870, in run\n",
      "    self._target(*self._args, **self._kwargs)\n",
      "  File \"/emr/notebook-env/lib/python3.7/site-packages/awseditorssparkmonitoringwidget-1.0-py3.7.egg/awseditorssparkmonitoringwidget/cellmonitor.py\", line 190, in cell_monitor\n",
      "    update_job_content(job_info_box, job_data)\n",
      "  File \"/emr/notebook-env/lib/python3.7/site-packages/awseditorssparkmonitoringwidget-1.0-py3.7.egg/awseditorssparkmonitoringwidget/updatewidgets.py\", line 38, in update_job_content\n",
      "    update_job_progress_bar(job_progress_bar_holder, job_data)\n",
      "  File \"/emr/notebook-env/lib/python3.7/site-packages/awseditorssparkmonitoringwidget-1.0-py3.7.egg/awseditorssparkmonitoringwidget/updatewidgets.py\", line 48, in update_job_progress_bar\n",
      "    progress_bar.max = new_max\n",
      "  File \"/emr/notebook-env/lib/python3.7/site-packages/traitlets/traitlets.py\", line 585, in __set__\n",
      "    self.set(obj, value)\n",
      "  File \"/emr/notebook-env/lib/python3.7/site-packages/traitlets/traitlets.py\", line 559, in set\n",
      "    new_value = self._validate(obj, value)\n",
      "  File \"/emr/notebook-env/lib/python3.7/site-packages/traitlets/traitlets.py\", line 593, in _validate\n",
      "    value = self._cross_validate(obj, value)\n",
      "  File \"/emr/notebook-env/lib/python3.7/site-packages/traitlets/traitlets.py\", line 599, in _cross_validate\n",
      "    value = obj._trait_validators[self.name](obj, proposal)\n",
      "  File \"/emr/notebook-env/lib/python3.7/site-packages/traitlets/traitlets.py\", line 907, in __call__\n",
      "    return self.func(*args, **kwargs)\n",
      "  File \"/emr/notebook-env/lib/python3.7/site-packages/ipywidgets/widgets/widget_int.py\", line 118, in _validate_max\n",
      "    raise TraitError('setting max < min')\n",
      "traitlets.traitlets.TraitError: setting max < min\n",
      "\n"
     ]
    }
   ],
   "source": [
    "# output_df.show()\n",
    "output_df.coalesce(1).write.mode(\"overwrite\").options(sep=\"\\t\", quote=\"\").csv(\n",
    "        \"s3://commonsmapper/data_viz/{}\".format(INDEX)\n",
    "    )"
   ]
  }
 ],
 "metadata": {
  "kernelspec": {
   "display_name": "PySpark",
   "language": "",
   "name": "pysparkkernel"
  },
  "language_info": {
   "codemirror_mode": {
    "name": "python",
    "version": 3
   },
   "mimetype": "text/x-python",
   "name": "pyspark",
   "pygments_lexer": "python3"
  }
 },
 "nbformat": 4,
 "nbformat_minor": 4
}
